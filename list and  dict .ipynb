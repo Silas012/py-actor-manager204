{
  "nbformat": 4,
  "nbformat_minor": 0,
  "metadata": {
    "colab": {
      "provenance": [],
      "authorship_tag": "ABX9TyNjcTEF6zaJ8fJvmUYx2K9u",
      "include_colab_link": true
    },
    "kernelspec": {
      "name": "python3",
      "display_name": "Python 3"
    },
    "language_info": {
      "name": "python"
    }
  },
  "cells": [
    {
      "cell_type": "markdown",
      "metadata": {
        "id": "view-in-github",
        "colab_type": "text"
      },
      "source": [
        "<a href=\"https://colab.research.google.com/github/Silas012/py-actor-manager204/blob/master/list%20and%20%20dict%20.ipynb\" target=\"_parent\"><img src=\"https://colab.research.google.com/assets/colab-badge.svg\" alt=\"Open In Colab\"/></a>"
      ]
    },
    {
      "cell_type": "code",
      "execution_count": 17,
      "metadata": {
        "colab": {
          "base_uri": "https://localhost:8080/"
        },
        "id": "XkkIoM_32OUE",
        "outputId": "abfcee1e-339b-4e33-8b33-72ee19ceba64"
      },
      "outputs": [
        {
          "output_type": "stream",
          "name": "stdout",
          "text": [
            "diga sua nota12\n",
            "diga sua nota14\n",
            "diga sua nota13.99\n",
            " sua notas media: 13.330000\n"
          ]
        }
      ],
      "source": [
        "notas=[]\n",
        "n=float(input(\"diga sua nota\"))\n",
        "n1=float(input(\"diga sua nota\"))\n",
        "n2=float(input(\"diga sua nota\"))\n",
        "notas.append(n)\n",
        "notas.append(n1)\n",
        "notas.append(n2)\n",
        "media= sum(notas) / len(notas)\n",
        "print(F\" sua notas media: {media:2f}\")"
      ]
    },
    {
      "cell_type": "code",
      "source": [
        "\n",
        "\n",
        "user = []\n",
        "for i in range(5):\n",
        "  users=input(f\" digite o nome do usuarios {i+1}\")\n",
        "  user.append(users)\n",
        "  user.sort()\n",
        "for users in user:\n",
        "  print(users)\n",
        "\n",
        "\n",
        "\n"
      ],
      "metadata": {
        "colab": {
          "base_uri": "https://localhost:8080/"
        },
        "id": "WmkVSIax6w1d",
        "outputId": "d84ee84b-e1f8-46f1-97ac-419782bcc00b"
      },
      "execution_count": 24,
      "outputs": [
        {
          "output_type": "stream",
          "name": "stdout",
          "text": [
            " digite o nome do usuarios 1silas\n",
            " digite o nome do usuarios 2thiago\n",
            " digite o nome do usuarios 3alana\n",
            " digite o nome do usuarios 4rebeka\n",
            " digite o nome do usuarios 5mari\n",
            "alana\n",
            "mari\n",
            "rebeka\n",
            "silas\n",
            "thiago\n"
          ]
        }
      ]
    },
    {
      "cell_type": "code",
      "source": [
        "pokemons_pegos=['picachu', 'aceus', 'mewtwo', 'kyogre','kyogre primitivo' ]\n",
        "pokemon_isograma= set(pokemons_pegos)\n",
        "print(f\"{len(pokemons_pegos)} foi este o numeros de pokemons isogramas\")\n",
        "for pokemon in sorted(pokemons_pegos):\n",
        "  print(f\" pokemon unicos; {pokemon}\")\n",
        "\n",
        "\n",
        "\n",
        "\n"
      ],
      "metadata": {
        "colab": {
          "base_uri": "https://localhost:8080/"
        },
        "id": "ZR-MqG5W9rx8",
        "outputId": "f2a1e64f-65c0-452c-d90a-36fb4afc5c6e"
      },
      "execution_count": 32,
      "outputs": [
        {
          "output_type": "stream",
          "name": "stdout",
          "text": [
            "5 foi este o numeros de pokemons isogramas\n",
            " pokemon unicos; aceus\n",
            " pokemon unicos; kyogre\n",
            " pokemon unicos; kyogre primitivo\n",
            " pokemon unicos; mewtwo\n",
            " pokemon unicos; picachu\n"
          ]
        }
      ]
    },
    {
      "cell_type": "code",
      "source": [
        "meses_dict= {\n",
        "    '01': 'janeiro', '02': 'fevereiro', '03': 'março',\n",
        "    '04': 'abril', '05': 'maio', '06': 'junho',\n",
        "    '07': 'julho', '08': 'agosto', '09': 'setembro',\n",
        "    '10': 'outubro', '11': 'novembro', '12': 'dezembro'\n",
        "}\n",
        "\n",
        "data_nascimento = input(\"Digite sua data de nascimento (dd/mm/aaaa): \")\n",
        "\n",
        "\n",
        "dia, mes, ano = data_nascimento.split(\"/\")\n",
        "\n",
        "no_mes = meses_dict.get(mes, \"desde nosso caladario pfvr\")\n",
        "\n",
        "print(f\"Data de nascimento: {dia} de {no_mes} de {ano}\")"
      ],
      "metadata": {
        "colab": {
          "base_uri": "https://localhost:8080/"
        },
        "id": "cG7KjD6rB-P9",
        "outputId": "519a58fb-bbee-419c-b897-ca2deeb09976"
      },
      "execution_count": 43,
      "outputs": [
        {
          "output_type": "stream",
          "name": "stdout",
          "text": [
            "Digite sua data de nascimento (dd/mm/aaaa): 22/22/1299\n",
            "Data de nascimento: 22 de dentro do nosso caladario pfvr de 1299\n"
          ]
        }
      ]
    }
  ]
}